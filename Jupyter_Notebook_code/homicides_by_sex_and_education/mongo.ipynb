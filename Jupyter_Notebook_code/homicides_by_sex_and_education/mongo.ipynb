{
 "cells": [
  {
   "cell_type": "code",
   "execution_count": 7,
   "metadata": {},
   "outputs": [],
   "source": [
    "from pymongo import MongoClient"
   ]
  },
  {
   "cell_type": "code",
   "execution_count": 8,
   "metadata": {},
   "outputs": [],
   "source": [
    "mongo  = MongoClient()"
   ]
  },
  {
   "cell_type": "code",
   "execution_count": 11,
   "metadata": {},
   "outputs": [
    {
     "data": {
      "text/plain": [
       "['Project3', 'admin', 'config', 'dataAnlaysis', 'local', 'uk_food']"
      ]
     },
     "execution_count": 11,
     "metadata": {},
     "output_type": "execute_result"
    }
   ],
   "source": [
    "mongo.list_database_names()"
   ]
  },
  {
   "cell_type": "code",
   "execution_count": 12,
   "metadata": {},
   "outputs": [],
   "source": [
    "db = mongo['Project3']"
   ]
  },
  {
   "cell_type": "code",
   "execution_count": 13,
   "metadata": {},
   "outputs": [
    {
     "data": {
      "text/plain": [
       "['table1', 'sex']"
      ]
     },
     "execution_count": 13,
     "metadata": {},
     "output_type": "execute_result"
    }
   ],
   "source": [
    "db.list_collection_names()"
   ]
  },
  {
   "cell_type": "code",
   "execution_count": 14,
   "metadata": {},
   "outputs": [],
   "source": [
    "grade = db['table1']\n",
    "sex = db['sex']"
   ]
  },
  {
   "cell_type": "code",
   "execution_count": 16,
   "metadata": {},
   "outputs": [
    {
     "data": {
      "text/plain": [
       "[{'_id': ObjectId('65a9e9aa51fe405d92a034ad'),\n",
       "  'Year': 2018,\n",
       "  'Total': 36685,\n",
       "  'Sin escolaridad': 1288,\n",
       "  'Preescolar': 88,\n",
       "  'Primaria incompleta': 3152,\n",
       "  'Primaria completa': 6993,\n",
       "  'Secundaria incompleta': 2478,\n",
       "  'Secundaria o equivalente': 9502,\n",
       "  'Bachillerato o preparatoria incompleto': 1857,\n",
       "  'Bachillerato o preparatoria completo': 3752,\n",
       "  'Profesional': 2447,\n",
       "  'Posgrado': 84},\n",
       " {'_id': ObjectId('65a9e9aa51fe405d92a034ae'),\n",
       "  'Year': 2019,\n",
       "  'Total': 36661,\n",
       "  'Sin escolaridad': 1282,\n",
       "  'Preescolar': 71,\n",
       "  'Primaria incompleta': 3277,\n",
       "  'Primaria completa': 7205,\n",
       "  'Secundaria incompleta': 2725,\n",
       "  'Secundaria o equivalente': 9710,\n",
       "  'Bachillerato o preparatoria incompleto': 1981,\n",
       "  'Bachillerato o preparatoria completo': 3833,\n",
       "  'Profesional': 2470,\n",
       "  'Posgrado': 105},\n",
       " {'_id': ObjectId('65a9e9aa51fe405d92a034af'),\n",
       "  'Year': 2020,\n",
       "  'Total': 36773,\n",
       "  'Sin escolaridad': 1209,\n",
       "  'Preescolar': 81,\n",
       "  'Primaria incompleta': 3008,\n",
       "  'Primaria completa': 6878,\n",
       "  'Secundaria incompleta': 2601,\n",
       "  'Secundaria o equivalente': 9532,\n",
       "  'Bachillerato o preparatoria incompleto': 1958,\n",
       "  'Bachillerato o preparatoria completo': 3649,\n",
       "  'Profesional': 2373,\n",
       "  'Posgrado': 93},\n",
       " {'_id': ObjectId('65a9e9aa51fe405d92a034b0'),\n",
       "  'Year': 2021,\n",
       "  'Total': 35700,\n",
       "  'Sin escolaridad': 1150,\n",
       "  'Preescolar': 91,\n",
       "  'Primaria incompleta': 3005,\n",
       "  'Primaria completa': 6491,\n",
       "  'Secundaria incompleta': 2699,\n",
       "  'Secundaria o equivalente': 9591,\n",
       "  'Bachillerato o preparatoria incompleto': 1816,\n",
       "  'Bachillerato o preparatoria completo': 3694,\n",
       "  'Profesional': 2273,\n",
       "  'Posgrado': 78},\n",
       " {'_id': ObjectId('65a9e9aa51fe405d92a034b1'),\n",
       "  'Year': 2022,\n",
       "  'Total': 33287,\n",
       "  'Sin escolaridad': 1068,\n",
       "  'Preescolar': 62,\n",
       "  'Primaria incompleta': 2635,\n",
       "  'Primaria completa': 6088,\n",
       "  'Secundaria incompleta': 2390,\n",
       "  'Secundaria o equivalente': 9071,\n",
       "  'Bachillerato o preparatoria incompleto': 1744,\n",
       "  'Bachillerato o preparatoria completo': 3554,\n",
       "  'Profesional': 2100,\n",
       "  'Posgrado': 78}]"
      ]
     },
     "execution_count": 16,
     "metadata": {},
     "output_type": "execute_result"
    }
   ],
   "source": [
    "list(grade.find())"
   ]
  },
  {
   "cell_type": "code",
   "execution_count": null,
   "metadata": {},
   "outputs": [],
   "source": []
  }
 ],
 "metadata": {
  "kernelspec": {
   "display_name": "DataAnalyst",
   "language": "python",
   "name": "python3"
  },
  "language_info": {
   "codemirror_mode": {
    "name": "ipython",
    "version": 3
   },
   "file_extension": ".py",
   "mimetype": "text/x-python",
   "name": "python",
   "nbconvert_exporter": "python",
   "pygments_lexer": "ipython3",
   "version": "3.10.13"
  }
 },
 "nbformat": 4,
 "nbformat_minor": 2
}
